{
 "cells": [
  {
   "cell_type": "markdown",
   "metadata": {},
   "source": [
    "# Generating Counterfactuals Directly from LLMs"
   ]
  },
  {
   "cell_type": "markdown",
   "metadata": {},
   "source": [
    "## Some utils."
   ]
  },
  {
   "cell_type": "markdown",
   "metadata": {},
   "source": [
    "### Seeds"
   ]
  },
  {
   "cell_type": "code",
   "execution_count": null,
   "metadata": {},
   "outputs": [],
   "source": [
    "import openai\n",
    "import torch\n",
    "import torch.nn.functional as F\n",
    "import numpy as np\n",
    "import random\n",
    "\n",
    "\n",
    "def set_seed():\n",
    "    random.seed(42)\n",
    "    np.random.seed(42)\n",
    "    torch.manual_seed(42)\n",
    "    torch.cuda.manual_seed_all(42)"
   ]
  },
  {
   "cell_type": "markdown",
   "metadata": {},
   "source": [
    "### GNN related"
   ]
  },
  {
   "cell_type": "code",
   "execution_count": 1,
   "metadata": {},
   "outputs": [],
   "source": [
    "def load_gnn(model_path):\n",
    "    \"\"\"_summary_\n",
    "\n",
    "    Args:\n",
    "        model_path (str): path to the model\n",
    "    \"\"\"\n",
    "    model = torch.load(model_path)\n",
    "    model.eval()\n",
    "    return model"
   ]
  },
  {
   "cell_type": "markdown",
   "metadata": {},
   "source": [
    "### Generate counterfactual SMILES"
   ]
  },
  {
   "cell_type": "code",
   "execution_count": 2,
   "metadata": {},
   "outputs": [],
   "source": [
    "\n",
    "\n",
    "def generate_counterfactual_smiles(smiles, label):\n",
    "    \"\"\"\n",
    "    Generate a counterfactual SMILES string for a given SMILES and label semantics.\n",
    "\n",
    "    :param smiles: The original SMILES string of the molecule.\n",
    "    :param label: The desired label semantics for the counterfactual molecule.\n",
    "    :return: A counterfactual SMILES string that satisfies the desired label semantics.\n",
    "    \"\"\"\n",
    "    prompt = f\"Minimally edit {smiles} to be a {label} and output its SMILES representation only.\"\n",
    "\n",
    "    response = openai.ChatCompletion.create(\n",
    "        model=\"gpt-4.0-turbo\",\n",
    "        messages=[\n",
    "            {\"role\": \"system\", \"content\": \"You are a highly knowledgeable chemistry assistant.\"},\n",
    "            {\"role\": \"user\", \"content\": prompt}\n",
    "        ]\n",
    "    )\n",
    "\n",
    "    # Extracting the output from the response\n",
    "    output = response['choices'][0]['message']['content'].strip()\n",
    "\n",
    "    return output\n",
    "\n"
   ]
  },
  {
   "cell_type": "markdown",
   "metadata": {},
   "source": [
    "### Evaluation Related"
   ]
  },
  {
   "cell_type": "code",
   "execution_count": 3,
   "metadata": {},
   "outputs": [],
   "source": [
    "def compute_proximity(graphs, cf_graph):\n",
    "    \"\"\"_summary_\n",
    "\n",
    "    Args:\n",
    "        graphs (dicitonary): keys: adj, node, edge\n",
    "        cf_graph (disctionary): keys: adj, node, edge\n",
    "    \"\"\"\n",
    "    proximity = 0\n",
    "    for key in graphs.keys():\n",
    "        graphs[key] = torch.tensor(graphs[key])\n",
    "        cf_graph[key] = torch.tensor(cf_graph[key])\n",
    "        if key == 'edge':\n",
    "            proximity += torch.sum(graphs[key]- cf_graph[key])/2\n",
    "        else:\n",
    "            proximity += torch.sum(graphs[key]- cf_graph[key])\n",
    "    proximity /= len(graphs)\n",
    "    return proximity"
   ]
  },
  {
   "cell_type": "markdown",
   "metadata": {},
   "source": [
    "## Arguments\n"
   ]
  },
  {
   "cell_type": "code",
   "execution_count": 4,
   "metadata": {},
   "outputs": [
    {
     "name": "stderr",
     "output_type": "stream",
     "text": [
      "usage: ipykernel_launcher.py [-h] [--dataset DATASET]\n",
      "ipykernel_launcher.py: error: unrecognized arguments: --f=/home/xxx/.local/share/jupyter/runtime/kernel-v2-2485384zZsuXQPyBKQY.json\n"
     ]
    },
    {
     "ename": "SystemExit",
     "evalue": "2",
     "output_type": "error",
     "traceback": [
      "An exception has occurred, use %tb to see the full traceback.\n",
      "\u001b[0;31mSystemExit\u001b[0m\u001b[0;31m:\u001b[0m 2\n"
     ]
    },
    {
     "name": "stderr",
     "output_type": "stream",
     "text": [
      "/home/xxx/.conda/envs/explain_gnn/lib/python3.11/site-packages/IPython/core/interactiveshell.py:3585: UserWarning: To exit: use 'exit', 'quit', or Ctrl-D.\n",
      "  warn(\"To exit: use 'exit', 'quit', or Ctrl-D.\", stacklevel=1)\n"
     ]
    }
   ],
   "source": [
    "import argparse\n",
    "def parse_args():\n",
    "    parser = argparse.ArgumentParser(description='Arguments for counterfactual genration directly from the LLMs')\n",
    "    parser.add_argument('--dataset', type=str, help='name of the dataset')\n",
    "    return parser.parse_args()\n",
    "args = parse_args()"
   ]
  },
  {
   "cell_type": "markdown",
   "metadata": {},
   "source": [
    "## Main Code Starts"
   ]
  },
  {
   "cell_type": "markdown",
   "metadata": {},
   "source": [
    "## load dataset"
   ]
  },
  {
   "cell_type": "code",
   "execution_count": null,
   "metadata": {},
   "outputs": [],
   "source": [
    "# output the list of SMILES strings and their desired label semantics\n",
    "from utils.datasets import Dataset\n",
    "set_seed()\n",
    "dataset = Dataset(dataset=args.dataset, generate_text=args.generate_text)\n",
    "_, _, test_data = dataset.get_dataloaders()\n",
    "test_smiles_list = test_data.smiles"
   ]
  },
  {
   "cell_type": "code",
   "execution_count": null,
   "metadata": {},
   "outputs": [],
   "source": [
    "label_semantics = {\n",
    "    'AIDS':\n",
    "    'Clintox':\n",
    "}"
   ]
  },
  {
   "cell_type": "markdown",
   "metadata": {},
   "source": [
    "## generate counterfactual"
   ]
  },
  {
   "cell_type": "code",
   "execution_count": null,
   "metadata": {},
   "outputs": [],
   "source": [
    "# iterate all the SMILES strings \n",
    "\n",
    "counterfactual_smiles_list = []\n",
    "for smiles in test_smiles_list:\n",
    "    counterfactual_smiles = generate_counterfactual_smiles(smiles, label_semantics)\n",
    "    counterfactual_smiles_list.append(counterfactual_smiles)"
   ]
  },
  {
   "cell_type": "markdown",
   "metadata": {},
   "source": [
    "## Save counterfactuals"
   ]
  },
  {
   "cell_type": "code",
   "execution_count": null,
   "metadata": {},
   "outputs": [],
   "source": [
    "# save counterfactuals as csv, each row contains one SMILES.\n",
    "import pandas as pd\n",
    "\n",
    "df = pd.DataFrame(counterfactual_smiles_list, columns=['counterfactual_smiles'])\n",
    "\n",
    "df.to_csv('../exp_results/rebuttal/gce_dir_llm_'+{dataset}+'.csv', index=False)"
   ]
  },
  {
   "cell_type": "markdown",
   "metadata": {},
   "source": [
    "## Evaluate counterfactuals"
   ]
  },
  {
   "cell_type": "code",
   "execution_count": null,
   "metadata": {},
   "outputs": [],
   "source": [
    "from model.model_evaluation import evaluate_gce_model\n",
    "\n",
    "# evaluate the counterfactuals\n",
    "\n",
    "# (1) Transform the SMILES to the graph\n",
    "# (2) Filter the graphs that are not chemical feasible\n",
    "# (2) Load the GNN weights for the certain dataset\n",
    "# (3) Evaluate the validity and proximity\n",
    "\n",
    "from utils.data_load import get_graphs_from_smiles\n",
    "graphs, max_nodes, smiles, graph_labels = get_graphs_from_smiles(counterfactual_smiles_list, dataset)\n",
    "# the graphs are already filtered by the chemical feasibility\n",
    "gnn = load_gnn(dataset)\n",
    "predictions = gnn.predict(graphs)\n",
    "validity = sum(predictions) / len(test_smiles_list)\n",
    "proximity = compute_proximity(gnn, graphs, graph_labels)"
   ]
  },
  {
   "cell_type": "markdown",
   "metadata": {},
   "source": [
    "## Save the results"
   ]
  },
  {
   "cell_type": "code",
   "execution_count": null,
   "metadata": {},
   "outputs": [],
   "source": [
    "# save the validity and proximity of the model to the csv file\n",
    "df = pd.DataFrame({'validity': validity, 'proximity': proximity})\n",
    "df.to_csv('../exp_results/rebuttal/gce_dir_llm_'+{dataset}+'_evaluation.csv', index=False)"
   ]
  }
 ],
 "metadata": {
  "kernelspec": {
   "display_name": "explain_gnn",
   "language": "python",
   "name": "python3"
  },
  "language_info": {
   "codemirror_mode": {
    "name": "ipython",
    "version": 3
   },
   "file_extension": ".py",
   "mimetype": "text/x-python",
   "name": "python",
   "nbconvert_exporter": "python",
   "pygments_lexer": "ipython3",
   "version": "3.11.7"
  },
  "orig_nbformat": 4
 },
 "nbformat": 4,
 "nbformat_minor": 2
}
